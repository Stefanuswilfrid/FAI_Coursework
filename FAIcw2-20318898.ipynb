{
 "cells": [
  {
   "cell_type": "markdown",
   "metadata": {},
   "source": [
    "# FAI Coursework Two\n",
    "# Introduction\n",
    "\n",
    "\n",
    "The questions are based on the machine learning algorithms covered in labs. Students are expected to indentify the correct syntax to import modules and call functions. Students are aslo expected to evaluate the performance of different algorithms. \n",
    "\n",
    "\n",
    "# Marks\n",
    "\n",
    "Coursework 2 accounts for 10% of the COMP1037 marks. Corresponding marks will be awarded for answering each of the sub-questions in `FAIcw2.ipynb`. Report should be written using this file as the template.\n",
    "\n",
    "1. Answer questions using `Markdown` cell.\n",
    "2. Use `Code` cell to input your code. \n",
    "**Note: a. please run your code in the notebook and upload your notebook together with all the outputs. b. avoid using problem setting requires more than 2 mins to get the output.**\n",
    "\n",
    "\n",
    "# Plagiarism vs. Group Discussions\n",
    "\n",
    "As you should know, there is no tolerance of plagiarism, and any breach of which will be dealt with according to the University's standard policies. Please be very careful not to cross the boundary into plagiarism while having general discussions regarding the coursework to promote the generation of new ideas and to enhance the learning experience. The important part is that when you sit down to actually do the work and write the answers, you do it individually. If you do this, and you truly understand what you have written, you will not be guilty of plagiarism. Do NOT, under any circumstances, share code or share figures, graphs or charts, etc.\n",
    "\n",
    "# Deadline and submission procedure\n",
    "\n",
    "The submission deadline is 11:59pm on the **1  May 2022** via Moodle. Late submission results into a 5% reduction of your coursework mark for each weekday. Any work handed in after the 8th May will receive zero marks.\n",
    "\n",
    "Name your submission file: FAIcw2-XXX.ipynb, where XXX should be your student ID number, and submit a single file via Moodle.\n",
    "\n",
    "If you can’t submit your coursework on time due to Extenuating Circumstances, please contact your personal tutor first. I am only granting an extension of submission based on his / her recommendation.\n",
    "\n",
    "\n",
    "***Please remove the above text while writing your coursework report.***"
   ]
  },
  {
   "cell_type": "markdown",
   "metadata": {},
   "source": [
    "## Part I. Mobile Price Classification\n",
    "Answer the following questions related to the *Mobile Price Data*\n",
    "The Mobile Price dataset includes features of battery power, clock speed, Front Camera mega pixels, Internal Memory in Gigabytes,Mobile Depth in cm,Weight of mobile phone, n_cores,pc,\tpx_height,\tpx_width,\tram,\tsc_h,\tsc_w,\ttalk_time. The target values are \"low\",\"medium\",\"high\",and  and \"extraHigh\". The training dataset and test dataset are both provided. The test dataset does not include the target column. We will use this database to implement and compare performances of different learning algorithms.\n"
   ]
  },
  {
   "cell_type": "markdown",
   "metadata": {},
   "source": [
    "### [5 Marks] 1. Import necessary modules for the questions below. "
   ]
  },
  {
   "cell_type": "code",
   "execution_count": 1,
   "metadata": {},
   "outputs": [],
   "source": [
    "from learning import *\n",
    "from notebook import *\n",
    "from probabilistic_learning import *\n",
    "from utils import *\n",
    "from utils4e import *\n"
   ]
  },
  {
   "cell_type": "markdown",
   "metadata": {},
   "source": [
    "### [10 Marks] 2. In the code cell below, load the data and define a name for the data. Print the inputs, target, the first example, and the values for the target."
   ]
  },
  {
   "cell_type": "code",
   "execution_count": 2,
   "metadata": {},
   "outputs": [],
   "source": [
    "train = DataSet(name=\"train\")"
   ]
  },
  {
   "cell_type": "code",
   "execution_count": 3,
   "metadata": {},
   "outputs": [],
   "source": [
    "test = DataSet(name=\"test\")"
   ]
  },
  {
   "cell_type": "code",
   "execution_count": 4,
   "metadata": {},
   "outputs": [
    {
     "name": "stdout",
     "output_type": "stream",
     "text": [
      "[0, 1, 2, 3, 4, 5, 6, 7, 8, 9, 10, 11, 12, 13]\n",
      "14\n",
      "[842, 2.2, 1, 7, 0.6, 188, 2, 2, 20, 756, 2549, 9, 7, 19, 'medium']\n",
      "['high', 'medium', 'low', 'extraHigh']\n"
     ]
    }
   ],
   "source": [
    "print(train.inputs) #list of attribute index without the target\n",
    "print(train.target) # attribute a learning algorithm will try to predict. By default the last attribute.\n",
    "print(train.examples[0]) #prints the first line in the csv file \n",
    "print(train.values[train.target])\n"
   ]
  },
  {
   "cell_type": "markdown",
   "metadata": {},
   "source": [
    "\n",
    "### [10 Marks] 3. In the code cell below, print the mean of all features for class \"low\"; Print the deviation of feature index 4 for class \"extraHigh\"."
   ]
  },
  {
   "cell_type": "markdown",
   "metadata": {},
   "source": [
    "The code cell below to print the mean of all features for class \"low\". "
   ]
  },
  {
   "cell_type": "code",
   "execution_count": 5,
   "metadata": {},
   "outputs": [
    {
     "name": "stdout",
     "output_type": "stream",
     "text": [
      "1094.8894736842105\n",
      "1.6147368421052635\n",
      "4.063157894736842\n",
      "30.49473684210526\n",
      "0.4968421052631575\n",
      "144.44736842105263\n",
      "4.647368421052631\n",
      "9.24736842105263\n",
      "540.3263157894737\n",
      "1161.157894736842\n",
      "788.5526315789474\n",
      "12.589473684210526\n",
      "5.531578947368421\n",
      "10.531578947368422\n"
     ]
    }
   ],
   "source": [
    "lowtable =[]\n",
    "for i in train.examples :\n",
    "    targetVal = i[14]\n",
    "    if(targetVal==\"low\"):\n",
    "        lowtable.append(i[:14])\n",
    "\n",
    "\n",
    "for i in (np.average(lowtable,axis=0)): #column average \n",
    "    print(i)\n",
    "\n"
   ]
  },
  {
   "cell_type": "markdown",
   "metadata": {},
   "source": [
    "The code cell below to print the deviation of feature index 4 for class \"extraHigh\""
   ]
  },
  {
   "cell_type": "code",
   "execution_count": 6,
   "metadata": {},
   "outputs": [
    {
     "name": "stdout",
     "output_type": "stream",
     "text": [
      "0.2937823258124237\n"
     ]
    }
   ],
   "source": [
    "eHighTable = []\n",
    "for row in train.examples :\n",
    "    if(row[len(row)-1]==\"extraHigh\"):\n",
    "        eHighTable.append(row[4])\n",
    "\n",
    "print(np.std(eHighTable))\n",
    "        "
   ]
  },
  {
   "cell_type": "markdown",
   "metadata": {},
   "source": [
    "\n",
    "### [15 Marks] 4. In the code cell below, choose 3 learning algorithms (other than KNN, Naive Bayes) to predict the top 10 instances in the test dataset."
   ]
  },
  {
   "cell_type": "code",
   "execution_count": 8,
   "metadata": {},
   "outputs": [
    {
     "name": "stdout",
     "output_type": "stream",
     "text": [
      "extraHigh\n",
      "high\n",
      "2\n",
      "extraHigh\n",
      "medium\n",
      "2\n",
      "extraHigh\n",
      "low\n",
      "2\n",
      "2\n"
     ]
    }
   ],
   "source": [
    "pL = PluralityLearner(train)\n",
    "print(pL([842,2.2,1,7,0.6,188,2,2,20,756,2549,9,7,19]))\n",
    "\n",
    "dT = DecisionTreeLearner(train)\n",
    "print(dT([1021,0.5,0,53,0.7,136,3,6,905,1988,2631,17,3,7]))\n",
    "\n",
    "train2 = DataSet(name=\"train\")\n",
    "train2.classes_to_numbers()\n",
    "perceptron = PerceptronLearner(train2)\n",
    "print(perceptron([1021,0.5,0,53,0.7,136,3,6,905,1988,2631,17,3,7]))\n",
    "\n",
    "\n",
    "print(pL([615,2.5,0,10,0.8,131,6,9,1216,1786,2769,16,8,11]))\n",
    "print(dT([1821,1.2,13,44,0.6,141,2,14,1208,1212,1411,8,2,15]))\n",
    "print(perceptron([1859,0.5,3,22,0.7,164,1,7,1004,1654,1067,17,1,10]))\n",
    "print(pL([1821,1.7,4,10,0.8,139,8,10,381,1018,3220,13,8,18]))\n",
    "print(dT([1954,0.5,0,24,0.8,187,4,0,512,1149,700,16,3,5]))\n",
    "print(perceptron([1445,0.5,0,53,0.7,174,7,14,386,836,1099,17,1,20]))\n",
    "print(perceptron([509,0.6,2,9,0.1,93,5,15,1137,1224,513,19,10,12]))\n"
   ]
  },
  {
   "cell_type": "markdown",
   "metadata": {},
   "source": [
    "### [15 Marks] 5. In the code cell below, use 3 different K values for KNN. In a markdown cell, demonstrate the best K value for KNN in terms of error ratio for the train.csv dataset. Please use the cross validation method to choose training and testing data.\n"
   ]
  },
  {
   "cell_type": "code",
   "execution_count": 12,
   "metadata": {},
   "outputs": [],
   "source": [
    "#this code cells requires 1 minute 45s -  1 minute 50s to complete running\n",
    "kNN_1 = cross_validation(NearestNeighborLearner,train,1)\n"
   ]
  },
  {
   "cell_type": "code",
   "execution_count": 10,
   "metadata": {},
   "outputs": [],
   "source": [
    "kNN_3 = cross_validation(NearestNeighborLearner,train,3)"
   ]
  },
  {
   "cell_type": "code",
   "execution_count": 11,
   "metadata": {},
   "outputs": [],
   "source": [
    "kNN_5 = cross_validation(NearestNeighborLearner,train2,5)"
   ]
  },
  {
   "cell_type": "code",
   "execution_count": 13,
   "metadata": {},
   "outputs": [
    {
     "name": "stdout",
     "output_type": "stream",
     "text": [
      "Error ratio for k=1: (0.0, 0.7652777777777777)\n",
      "Error ratio for k=3: (0.1861111111111111, 0.7791666666666666)\n",
      "Error ratio for k=5: (0.38638888888888884, 0.7525000000000001)\n"
     ]
    }
   ],
   "source": [
    "print(\"Error ratio for k=1:\", kNN_1)\n",
    "print(\"Error ratio for k=3:\", kNN_3)\n",
    "print(\"Error ratio for k=5:\", kNN_5)"
   ]
  },
  {
   "cell_type": "markdown",
   "metadata": {},
   "source": [
    "### [10 Marks] 6.In the code cell below, find out how many times feature index 3 of value 9 appeared in class \"low\"."
   ]
  },
  {
   "cell_type": "code",
   "execution_count": 14,
   "metadata": {},
   "outputs": [
    {
     "name": "stdout",
     "output_type": "stream",
     "text": [
      "3\n"
     ]
    }
   ],
   "source": [
    "count=0\n",
    "for i in lowtable :\n",
    "    if i[3] ==9 :\n",
    "        count +=1\n",
    "        \n",
    "print(count)"
   ]
  },
  {
   "cell_type": "markdown",
   "metadata": {},
   "source": [
    "### [15 Marks] 7. In the code cell below, show the error ratio of discrete and continuous naive bayes. Use a markdown cell to explain which one is better and why it is better.\n",
    "\n"
   ]
  },
  {
   "cell_type": "code",
   "execution_count": 15,
   "metadata": {},
   "outputs": [
    {
     "name": "stdout",
     "output_type": "stream",
     "text": [
      "Error ratio for Discrete: 0.00694444444444442\n",
      "Error ratio for Continuous: 0.1875\n"
     ]
    }
   ],
   "source": [
    "nBD = NaiveBayesLearner(train, continuous=False)\n",
    "print(\"Error ratio for Discrete:\", err_ratio(nBD, train))\n",
    "\n",
    "nBC = NaiveBayesLearner(train, continuous=True)\n",
    "print(\"Error ratio for Continuous:\", err_ratio(nBC, train))"
   ]
  },
  {
   "cell_type": "markdown",
   "metadata": {},
   "source": [
    "The error for discrete version of the naive bayes algorithm is very low, almost close to 0,whereas for the continuous version it is close to 0.2.\n",
    "\n",
    "\n",
    "I think its better to use the <b>Continuous Naive Bayes</b> ,eventhough most of the features have discrete value (only 2 or 3 features has continuous value) . Because in general continuous approach is more useful and accurate and also despite the overhead of calculating the distribution function . Example : If our features is continuous but we use the discrete approach , In our dataset, we have values like (2.1,2.2,2.3) they will be completely different values, despite being so close.\n",
    "\n",
    "Another reason, in our dataset, we have a value of (1.1), if the value doesnt appear in the feature, it probably will be 0, which may lead to missclassiffication."
   ]
  },
  {
   "cell_type": "markdown",
   "metadata": {},
   "source": [
    "## Part II. Answer the following questions related to the MDP problem.\n",
    "\n",
    "A boy is being chased around the school yard by bullies and must choose whether to Fight or Run. We consider three states:\n",
    "– Ok (O), where he is fine for the moment.\n",
    "– Danger (D), where the bullies are right on his heels.\n",
    "– Caught (C), where the bullies catch up with him and administer noogies.\n",
    "He begins in state O. In each state, the boy has two actions: \"run\" or \"fight\".The transtion matrix and the rewards are defined in the image below. \n",
    "<img src=\"files/images/mdp_boy.jpg\" width=\"500px\">"
   ]
  },
  {
   "cell_type": "markdown",
   "metadata": {},
   "source": [
    "### [20 Marks] Import necessary modules and calculte the optimal value and optimal policy for each state using epsilon of 0.001. You may use multiple cells to answer this question."
   ]
  },
  {
   "cell_type": "code",
   "execution_count": 16,
   "metadata": {},
   "outputs": [],
   "source": [
    "from mdp4e import *\n",
    "from notebook4e import *"
   ]
  },
  {
   "cell_type": "code",
   "execution_count": 17,
   "metadata": {},
   "outputs": [],
   "source": [
    "# Transition Matrix as nested dict. State -> Actions in state -> List of (Probability, State) tuples\n",
    "t = {\n",
    "    \"O\": {\n",
    "            \"Run\": [(0.5, \"D\"),(0.5,\"O\")],\n",
    "            \"Fight\": [(0.8, \"O\"),(0.2,\"C\")]\n",
    "         },\n",
    "    \"D\": {\n",
    "            \"Run\": [(0.4, \"O\"),(0.3,\"C\"),(0.3,\"D\")],\n",
    "            \"Fight\": [(0.55, \"C\"),(0.25,\"O\"),(0.2,\"D\")]\n",
    "         },\n",
    "    \"C\": {\n",
    "            \"Run\": [(0.7,\"D\"),(0.3,\"C\")],\n",
    "            \"Fight\":[(0.3,\"O\"),(0.7,\"C\")]\n",
    "    }\n",
    "}\n",
    "\n",
    "init = \"O\"\n",
    "\n",
    "terminals = []\n",
    "\n",
    "rewards = {\n",
    "    \"O\": 2,\n",
    "    \"D\": -1,\n",
    "    \"C\": -5\n",
    "}"
   ]
  },
  {
   "cell_type": "code",
   "execution_count": 18,
   "metadata": {},
   "outputs": [
    {
     "data": {
      "text/plain": [
       "{'D': -6.266188733488141, 'O': -0.7362348164374501, 'C': -12.25697214362639}"
      ]
     },
     "execution_count": 18,
     "metadata": {},
     "output_type": "execute_result"
    }
   ],
   "source": [
    "actlist= [\"Run\",\"Fight\"]\n",
    "our_mdp = MDP2(init,actlist ,terminals,t, rewards, gamma=.9)\n",
    "value_iteration(our_mdp)"
   ]
  },
  {
   "cell_type": "code",
   "execution_count": 19,
   "metadata": {},
   "outputs": [
    {
     "name": "stdout",
     "output_type": "stream",
     "text": [
      "{'D': 'Run', 'O': 'Fight', 'C': 'Run'}\n"
     ]
    }
   ],
   "source": [
    "pi = best_policy(our_mdp, value_iteration(our_mdp, .001))\n",
    "print(pi)\n"
   ]
  },
  {
   "cell_type": "code",
   "execution_count": null,
   "metadata": {},
   "outputs": [],
   "source": []
  }
 ],
 "metadata": {
  "kernelspec": {
   "display_name": "Python 3 (ipykernel)",
   "language": "python",
   "name": "python3"
  },
  "language_info": {
   "codemirror_mode": {
    "name": "ipython",
    "version": 3
   },
   "file_extension": ".py",
   "mimetype": "text/x-python",
   "name": "python",
   "nbconvert_exporter": "python",
   "pygments_lexer": "ipython3",
   "version": "3.9.7"
  },
  "pycharm": {
   "stem_cell": {
    "cell_type": "raw",
    "metadata": {
     "collapsed": false
    },
    "source": []
   }
  }
 },
 "nbformat": 4,
 "nbformat_minor": 2
}
